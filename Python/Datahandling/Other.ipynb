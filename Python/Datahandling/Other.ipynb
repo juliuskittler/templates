{
 "cells": [
  {
   "cell_type": "code",
   "execution_count": 1,
   "metadata": {},
   "outputs": [],
   "source": [
    "import pickle\n",
    "import time \n",
    "import os"
   ]
  },
  {
   "cell_type": "markdown",
   "metadata": {},
   "source": [
    "# Pickle"
   ]
  },
  {
   "cell_type": "code",
   "execution_count": 23,
   "metadata": {},
   "outputs": [
    {
     "name": "stdout",
     "output_type": "stream",
     "text": [
      "created directory: Datahandling/files\n"
     ]
    }
   ],
   "source": [
    "# Create files directory if needed\n",
    "directory = \"Datahandling/files\"\n",
    "if not os.path.exists(directory):\n",
    "    os.makedirs(directory)\n",
    "    print(\"created directory: {}\".format(directory))"
   ]
  },
  {
   "cell_type": "code",
   "execution_count": 24,
   "metadata": {},
   "outputs": [],
   "source": [
    "# Save as pickle\n",
    "data = [\"A\", \"b\", \"C\", \"d\"]\n",
    "\n",
    "filepath = \"{}/{}\".format(directory, \"test.pkl\")\n",
    "\n",
    "with open(filepath, \"wb\") as f:\n",
    "    pickle.dump(data, f)"
   ]
  },
  {
   "cell_type": "code",
   "execution_count": 25,
   "metadata": {},
   "outputs": [
    {
     "name": "stdout",
     "output_type": "stream",
     "text": [
      "['A', 'b', 'C', 'd']\n"
     ]
    }
   ],
   "source": [
    "# Load from pickle\n",
    "with open(filepath, \"rb\") as f:\n",
    "    data = pickle.load(f)\n",
    "    \n",
    "print(data)"
   ]
  },
  {
   "cell_type": "markdown",
   "metadata": {},
   "source": [
    "# Profiling"
   ]
  },
  {
   "cell_type": "markdown",
   "metadata": {},
   "source": [
    "### With time"
   ]
  },
  {
   "cell_type": "code",
   "execution_count": 2,
   "metadata": {},
   "outputs": [
    {
     "name": "stdout",
     "output_type": "stream",
     "text": [
      "Time Consumed\n",
      "0.001590728759765625 seconds\n"
     ]
    }
   ],
   "source": [
    "start = time.time() \n",
    "\n",
    "# Your code here\n",
    "\n",
    "print(\"Time Consumed\") \n",
    "print(\"% s seconds\" % (time.time() - start))"
   ]
  },
  {
   "cell_type": "markdown",
   "metadata": {},
   "source": [
    "### With cProfile"
   ]
  },
  {
   "cell_type": "code",
   "execution_count": 6,
   "metadata": {},
   "outputs": [
    {
     "name": "stdout",
     "output_type": "stream",
     "text": [
      "         4 function calls in 0.110 seconds\n",
      "\n",
      "   Ordered by: standard name\n",
      "\n",
      "   ncalls  tottime  percall  cumtime  percall filename:lineno(function)\n",
      "        1    0.110    0.110    0.110    0.110 <string>:4(<listcomp>)\n",
      "        1    0.000    0.000    0.110    0.110 <string>:4(<module>)\n",
      "        1    0.000    0.000    0.110    0.110 {built-in method builtins.exec}\n",
      "        1    0.000    0.000    0.000    0.000 {method 'disable' of '_lsprof.Profiler' objects}\n",
      "\n",
      "\n"
     ]
    }
   ],
   "source": [
    "import cProfile \n",
    "  \n",
    "cProfile.run(\"\"\"\n",
    "\n",
    "# Your code here.\n",
    "x = [i for i in range(1000000)]\n",
    "\n",
    "\"\"\") "
   ]
  },
  {
   "cell_type": "markdown",
   "metadata": {},
   "source": [
    "# Zip"
   ]
  },
  {
   "cell_type": "code",
   "execution_count": null,
   "metadata": {},
   "outputs": [],
   "source": [
    "import shutil\n",
    "shutil.make_archive(output_filename, 'zip', dir_name) "
   ]
  },
  {
   "cell_type": "markdown",
   "metadata": {},
   "source": [
    "# Asyncio\n",
    "\n",
    "Note that there are differences between running asyncio in a script vs. in a notebook! See first link. The examples below are for a notebook.\n",
    "\n",
    "- https://stackoverflow.com/questions/55409641/asyncio-run-cannot-be-called-from-a-running-event-loop\n",
    "- https://faculty.ai/blog/a-guide-to-using-asyncio/\n",
    "- https://developer.ibm.com/tutorials/ba-on-demand-data-python-3/\n",
    "- https://realpython.com/async-io-python/#when-and-why-is-async-io-the-right-choice\n",
    "- https://docs.python.org/3/library/asyncio-eventloop.html#running-and-stopping-the-loop\n"
   ]
  },
  {
   "cell_type": "markdown",
   "metadata": {},
   "source": [
    "### Example 1"
   ]
  },
  {
   "cell_type": "code",
   "execution_count": 7,
   "metadata": {},
   "outputs": [
    {
     "name": "stdout",
     "output_type": "stream",
     "text": [
      "Hello\n",
      "world!\n"
     ]
    }
   ],
   "source": [
    "import asyncio\n",
    "\n",
    "async def print_after(message, delay):\n",
    "    \"\"\"Print a message after the specified delay (in seconds)\"\"\"\n",
    "    await asyncio.sleep(delay)\n",
    "    print(message)\n",
    "\n",
    "async def main():\n",
    "    # Use asyncio.gather to run two coroutines concurrently:\n",
    "    await asyncio.gather(\n",
    "        print_after(\"world!\", 2),\n",
    "        print_after(\"Hello\", 1)\n",
    "    )\n",
    "\n",
    "await main()\n"
   ]
  },
  {
   "cell_type": "markdown",
   "metadata": {},
   "source": [
    "### Example 2\n",
    "\n",
    "You can see that the order will not be 100, 90, ..., 10. At least one value in this order will be flipped. This shows that the code is actually executed asynchronously. Just exchange the task function with something else and adjust the params. This example generalizes well to other problems e.g. where you'd loop through all pairs of parameters."
   ]
  },
  {
   "cell_type": "code",
   "execution_count": 27,
   "metadata": {},
   "outputs": [
    {
     "name": "stdout",
     "output_type": "stream",
     "text": [
      "100\n",
      "\n",
      "90\n",
      "\n",
      "80\n",
      "\n",
      "70\n",
      "\n",
      "60\n",
      "\n",
      "50\n",
      "\n",
      "40\n",
      "\n",
      "30\n",
      "\n",
      "10\n",
      "20\n",
      "\n",
      "\n"
     ]
    }
   ],
   "source": [
    "import asyncio\n",
    "from concurrent.futures import ThreadPoolExecutor\n",
    "import random\n",
    "\n",
    "# Task that is to be run for all N pairs of elements from the lists param1 and param2\n",
    "def task(param1, param2):\n",
    "    \n",
    "    # Can also be a complex task, e.g. API request and writing to file\n",
    "    n = random.randint(0, 100000)\n",
    "    for i in range(n):\n",
    "        param1 * param2\n",
    "        \n",
    "    if param1 % 10 == 0:\n",
    "        print(\"{}\\n\".format(param1)) \n",
    "    \n",
    "# Asynchronous function that executes the N tasks until complete\n",
    "async def async_tasks(params):\n",
    "    \n",
    "    params1 = params[0] # list of length N\n",
    "    params2 = params[1] # list of length N\n",
    "    N = len(params1)\n",
    "    \n",
    "    with ThreadPoolExecutor(max_workers=20) as executor:\n",
    "\n",
    "        loop = asyncio.get_event_loop()\n",
    "\n",
    "        tasks = []\n",
    "\n",
    "        for i in range(N):\n",
    "            tasks.append(loop.run_in_executor(executor, task, *(params1[i], params2[i])))\n",
    "            #tasks.append(await asyncio.sleep(0.01)) # waiting in case of call restrictions\n",
    "            \n",
    "# Execute the tasks asynchronously\n",
    "params1 = list(range(100, 0, -1))\n",
    "params2 = list(range(100, 0, -1))\n",
    "params = [params1, params2]\n",
    "\n",
    "await async_tasks(params)\n",
    "\n",
    "## For scripts\n",
    "# loop = asyncio.get_event_loop() # or .new_event_loop()\n",
    "# loop.run_until_complete(async_tasks(params))\n",
    "# loop.stop()\n"
   ]
  },
  {
   "cell_type": "markdown",
   "metadata": {},
   "source": [
    "# Removing code from Jupyter notebooks"
   ]
  },
  {
   "cell_type": "markdown",
   "metadata": {},
   "source": [
    "Execute the following code in the terminal. You might have to install the following: \n",
    "\n",
    "- https://nbconvert.readthedocs.io/en/latest/install.html\n",
    "- https://github.com/ipython-contrib/jupyter_contrib_nbextensions\n"
   ]
  },
  {
   "cell_type": "code",
   "execution_count": null,
   "metadata": {},
   "outputs": [],
   "source": [
    "jupyter nbconvert notebook_to_convert.ipynb --to=html --TemplateExporter.exclude_input=True"
   ]
  }
 ],
 "metadata": {
  "kernelspec": {
   "display_name": "Python 3",
   "language": "python",
   "name": "python3"
  },
  "language_info": {
   "codemirror_mode": {
    "name": "ipython",
    "version": 3
   },
   "file_extension": ".py",
   "mimetype": "text/x-python",
   "name": "python",
   "nbconvert_exporter": "python",
   "pygments_lexer": "ipython3",
   "version": "3.7.3"
  }
 },
 "nbformat": 4,
 "nbformat_minor": 2
}
